{
  "nbformat": 4,
  "nbformat_minor": 0,
  "metadata": {
    "colab": {
      "provenance": []
    },
    "kernelspec": {
      "name": "python3",
      "display_name": "Python 3"
    },
    "language_info": {
      "name": "python"
    }
  },
  "cells": [
    {
      "cell_type": "code",
      "source": [
        "#Create my first list\n",
        "a = [3, 4, 1, -2]\n",
        "print(a)\n",
        "#Insert (2,5) to the list \"a\"\n",
        "#Inser the second element \"5\" to the list \"a\"\n",
        "a.insert(2,5)\n",
        "print(a)\n",
        "#Create a list inside a list\n",
        "a.append([5,6])\n",
        "a.append(\"new item\")\n",
        "print(a)\n",
        "#Pop (delete) an item from the list\n",
        "b = [3, 7, 2, 8, 5]\n",
        "print(b)\n",
        "b.pop()\n",
        "print(b)\n",
        "b.pop(1)\n",
        "print(b)\n",
        "##########################\n",
        "c = [1,2,3]\n",
        "c.append([5,6])\n",
        "print(c)\n",
        "print(c[1])\n",
        "print(c[3])\n",
        "print(c[3][1])"
      ],
      "metadata": {
        "id": "owX1-7EH2eKZ",
        "colab": {
          "base_uri": "https://localhost:8080/"
        },
        "outputId": "d53ceca5-ab82-494d-ac2c-97fc741317a4"
      },
      "execution_count": 11,
      "outputs": [
        {
          "output_type": "stream",
          "name": "stdout",
          "text": [
            "[3, 4, 1, -2]\n",
            "[3, 4, 5, 1, -2]\n",
            "[3, 4, 5, 1, -2, [5, 6], 'new item']\n",
            "[3, 7, 2, 8, 5]\n",
            "[3, 7, 2, 8]\n",
            "[3, 2, 8]\n",
            "[1, 2, 3, [5, 6]]\n",
            "2\n",
            "[5, 6]\n",
            "6\n"
          ]
        }
      ]
    },
    {
      "cell_type": "code",
      "source": [
        "a = \"Alpha\"\n",
        "b = \"Beta\"\n",
        "print(a, b)\n",
        "c = a\n",
        "a = b\n",
        "b = c\n",
        "print(a, b)"
      ],
      "metadata": {
        "colab": {
          "base_uri": "https://localhost:8080/"
        },
        "id": "hAyvdbrB1dH3",
        "outputId": "edad0665-cc19-4629-84e6-56681b60c585"
      },
      "execution_count": 12,
      "outputs": [
        {
          "output_type": "stream",
          "name": "stdout",
          "text": [
            "Alpha Beta\n",
            "Beta Alpha\n"
          ]
        }
      ]
    },
    {
      "cell_type": "code",
      "source": [
        "c = list(range(1,6))\n",
        "print(c)"
      ],
      "metadata": {
        "colab": {
          "base_uri": "https://localhost:8080/"
        },
        "id": "5ronE1Lm5QZX",
        "outputId": "7ba2e934-ae37-4fc0-d04b-1843a11f9456"
      },
      "execution_count": 16,
      "outputs": [
        {
          "output_type": "stream",
          "name": "stdout",
          "text": [
            "[1, 2, 3, 4, 5]\n"
          ]
        }
      ]
    },
    {
      "cell_type": "code",
      "source": [
        "for x in range (1,6):\n",
        "  print(x)\n",
        "a = [10,11,12,13,14]\n",
        "for i in a:\n",
        "  print(i)\n",
        "a = list(range(1,21))\n",
        "total = 0\n",
        "for c in a:\n",
        "  total += c\n",
        "  c += 1\n",
        "print(\"The sum from 1 to 20 is:\", total)"
      ],
      "metadata": {
        "colab": {
          "base_uri": "https://localhost:8080/"
        },
        "id": "tReNWzFV6DTC",
        "outputId": "7575bd9e-a634-44ed-de9e-9fba387e9701"
      },
      "execution_count": 20,
      "outputs": [
        {
          "output_type": "stream",
          "name": "stdout",
          "text": [
            "1\n",
            "2\n",
            "3\n",
            "4\n",
            "5\n",
            "10\n",
            "11\n",
            "12\n",
            "13\n",
            "14\n",
            "The sum from 1 to 20 is: 210\n"
          ]
        }
      ]
    },
    {
      "cell_type": "code",
      "source": [
        "a = list(range(1,51))\n",
        "b = []\n",
        "for i in a:\n",
        "  if i % 3 == 0:\n",
        "    b.append(i)\n",
        "print(b)\n",
        "total = 0\n",
        "for x in b:\n",
        "  total += x\n",
        "  x += 1\n",
        "print(total)\n"
      ],
      "metadata": {
        "colab": {
          "base_uri": "https://localhost:8080/"
        },
        "id": "qwFToLNa7DHn",
        "outputId": "0ef0ec00-ae73-4181-c1ba-b29f02030f56"
      },
      "execution_count": 23,
      "outputs": [
        {
          "output_type": "stream",
          "name": "stdout",
          "text": [
            "[3, 6, 9, 12, 15, 18, 21, 24, 27, 30, 33, 36, 39, 42, 45, 48]\n",
            "408\n"
          ]
        }
      ]
    }
  ]
}