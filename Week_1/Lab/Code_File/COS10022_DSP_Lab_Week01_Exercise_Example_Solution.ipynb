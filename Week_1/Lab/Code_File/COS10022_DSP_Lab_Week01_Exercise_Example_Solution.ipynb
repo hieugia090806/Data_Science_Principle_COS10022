{
 "cells": [
  {
   "cell_type": "code",
   "execution_count": 9,
   "metadata": {},
   "outputs": [
    {
     "name": "stdout",
     "output_type": "stream",
     "text": [
      "Room RoomC is available.\n",
      "Room RoomB is available.\n"
     ]
    }
   ],
   "source": [
    "# Exercise 1 - Choosing Available Rooms (Solution I)\n",
    "\n",
    "# Define Function\n",
    "def print_room(RoomName):\n",
    "    print(\"Room\", RoomName, \"is available.\")\n",
    "\n",
    "# Initialisation\n",
    "RoomA = 20\n",
    "RoomB = 50\n",
    "RoomC = 120\n",
    "student = 48\n",
    "\n",
    "# Main Program\n",
    "if student > RoomC: # Check whether student number is greater than the largest room capacity\n",
    "    print(\"There is no single room can fit in all students.\")\n",
    "else: # student must be less than or equal to RoomC\n",
    "    print_room(\"RoomC\")\n",
    "    \n",
    "    if student <= RoomB: # Check whether student number is less than or equal to RoomB\n",
    "        print_room(\"RoomB\")\n",
    "        if student <= RoomA: # Check whether student number is less than or equal to RoomA\n",
    "            print_room(\"RoomA\")"
   ]
  },
  {
   "cell_type": "code",
   "execution_count": 10,
   "metadata": {},
   "outputs": [
    {
     "name": "stdout",
     "output_type": "stream",
     "text": [
      "Room RoomB is available.\n",
      "Room RoomC is available.\n"
     ]
    }
   ],
   "source": [
    "# Exercise 1 - Choosing Available Rooms (Solution II)\n",
    "\n",
    "# Define Function\n",
    "def print_room(RoomName):\n",
    "    print(\"Room\", RoomName, \"is available.\")\n",
    "\n",
    "# Initialisation\n",
    "RoomA = 20\n",
    "RoomB = 50\n",
    "RoomC = 120\n",
    "student = 48\n",
    "\n",
    "# Main Program\n",
    "if student <= RoomA: # Check whether student number is smaller or equal to RoomA\n",
    "    print_room(\"RoomA\")\n",
    "    print_room(\"RoomB\")\n",
    "    print_room(\"RoomC\")\n",
    "elif student <= RoomB: # Check whether student number is smaller or equal to RoomB\n",
    "    print_room(\"RoomB\")\n",
    "    print_room(\"RoomC\")\n",
    "elif student <= RoomC: # Check whether student number is smaller or equal to RoomC\n",
    "    print_room(\"RoomC\")\n",
    "else:\n",
    "    print(\"There is no single room can fit in all students.\")"
   ]
  },
  {
   "cell_type": "code",
   "execution_count": null,
   "metadata": {},
   "outputs": [],
   "source": []
  }
 ],
 "metadata": {
  "kernelspec": {
   "display_name": "Python 3",
   "language": "python",
   "name": "python3"
  },
  "language_info": {
   "codemirror_mode": {
    "name": "ipython",
    "version": 3
   },
   "file_extension": ".py",
   "mimetype": "text/x-python",
   "name": "python",
   "nbconvert_exporter": "python",
   "pygments_lexer": "ipython3",
   "version": "3.7.4"
  }
 },
 "nbformat": 4,
 "nbformat_minor": 2
}
