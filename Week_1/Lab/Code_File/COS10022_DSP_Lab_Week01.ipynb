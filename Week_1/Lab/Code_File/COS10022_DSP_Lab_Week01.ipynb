{
 "cells": [
  {
   "cell_type": "code",
   "execution_count": 39,
   "metadata": {},
   "outputs": [],
   "source": [
    "# Let's create the first comment in your program."
   ]
  },
  {
   "cell_type": "code",
   "execution_count": 7,
   "metadata": {},
   "outputs": [
    {
     "name": "stdout",
     "output_type": "stream",
     "text": [
      "5\n"
     ]
    }
   ],
   "source": [
    "print(5)"
   ]
  },
  {
   "cell_type": "code",
   "execution_count": 6,
   "metadata": {},
   "outputs": [
    {
     "name": "stdout",
     "output_type": "stream",
     "text": [
      "I'm learning Python Programming.\n"
     ]
    }
   ],
   "source": [
    "print(\"I'm learning Python Programming.\")"
   ]
  },
  {
   "cell_type": "code",
   "execution_count": 13,
   "metadata": {},
   "outputs": [
    {
     "name": "stdout",
     "output_type": "stream",
     "text": [
      "1\n",
      "6\n",
      "1 6\n"
     ]
    }
   ],
   "source": [
    "a = 1\n",
    "b = 6\n",
    "print(a)\n",
    "print(b)\n",
    "print(a,b)"
   ]
  },
  {
   "cell_type": "code",
   "execution_count": 14,
   "metadata": {},
   "outputs": [
    {
     "name": "stdout",
     "output_type": "stream",
     "text": [
      "6 It's new!\n"
     ]
    }
   ],
   "source": [
    "a = b\n",
    "b = \"It's new!\"\n",
    "print(a,b)"
   ]
  },
  {
   "cell_type": "code",
   "execution_count": 26,
   "metadata": {},
   "outputs": [
    {
     "name": "stdout",
     "output_type": "stream",
     "text": [
      "Before:\n",
      "a = Alpha \n",
      "b = Beta\n",
      "\n",
      "After:\n",
      "a = Beta \n",
      "b = Alpha\n"
     ]
    }
   ],
   "source": [
    "# Brainstorm 1\n",
    "\n",
    "# Initial State\n",
    "a = \"Alpha\"\n",
    "b = 'Beta'\n",
    "print(\"Before:\")\n",
    "print(\"a =\", a, \"\\nb =\", b)\n",
    "\n",
    "# This is how you're going to do it.\n",
    "temp = a\n",
    "a = b\n",
    "b = temp\n",
    "print(\"\\nAfter:\")\n",
    "print(\"a =\", a, \"\\nb =\", b)"
   ]
  },
  {
   "cell_type": "code",
   "execution_count": 24,
   "metadata": {},
   "outputs": [
    {
     "name": "stdout",
     "output_type": "stream",
     "text": [
      "a is less than b.\n"
     ]
    }
   ],
   "source": [
    "# Set input variables\n",
    "a = 2\n",
    "b = 3\n",
    "\n",
    "# Main program\n",
    "if a < b:\n",
    "    print(\"a is less than b.\")\n",
    "else:\n",
    "    print(\"a is greater than or equal to b.\")"
   ]
  },
  {
   "cell_type": "code",
   "execution_count": 25,
   "metadata": {},
   "outputs": [
    {
     "name": "stdout",
     "output_type": "stream",
     "text": [
      "a is greater than or equal to b.\n"
     ]
    }
   ],
   "source": [
    "# Set input variables\n",
    "a = 5\n",
    "b = 3\n",
    "\n",
    "# Main program\n",
    "if a < b:\n",
    "    print(\"a is less than b.\")\n",
    "else:\n",
    "    print(\"a is greater than or equal to b.\")"
   ]
  },
  {
   "cell_type": "code",
   "execution_count": 27,
   "metadata": {},
   "outputs": [
    {
     "name": "stdout",
     "output_type": "stream",
     "text": [
      "The burger set is too expensive. You can't afford it.\n"
     ]
    }
   ],
   "source": [
    "# Brainstorm 2\n",
    "\n",
    "# initial values\n",
    "x = 10\n",
    "burger = 12\n",
    "\n",
    "# main program\n",
    "if x >= burger:\n",
    "    print('You can afford to have a burger meal.')\n",
    "else:\n",
    "    print(\"The burger set is too expensive. You can't afford it.\")"
   ]
  },
  {
   "cell_type": "code",
   "execution_count": 32,
   "metadata": {},
   "outputs": [
    {
     "name": "stdout",
     "output_type": "stream",
     "text": [
      "You can only afford to have a hotdog set.\n"
     ]
    }
   ],
   "source": [
    "# Brainstorm 3\n",
    "\n",
    "# initial values\n",
    "x = 10\n",
    "burger = 12\n",
    "hotdog = 8\n",
    "\n",
    "# main program\n",
    "if x >= burger:\n",
    "    if x >= hotdog:\n",
    "        print(\"You can afford choose either a burger or a hotdog set as the meal.\")\n",
    "    else:\n",
    "        print(\"You can only afford to have a burger set.\")\n",
    "else:\n",
    "    if x >= hotdog:\n",
    "        print(\"You can only afford to have a hotdog set.\")\n",
    "    else:\n",
    "        print(\"You cannot afford either a burger or a hotdog set as the meal.\")"
   ]
  },
  {
   "cell_type": "code",
   "execution_count": 38,
   "metadata": {},
   "outputs": [
    {
     "name": "stdout",
     "output_type": "stream",
     "text": [
      "a is less than b.\n"
     ]
    }
   ],
   "source": [
    "# The three cases example\n",
    "\n",
    "# Set input variables\n",
    "a = 2\n",
    "b = 3\n",
    "\n",
    "# Main program\n",
    "if a < b:\n",
    "    print(\"a is less than b.\")\n",
    "elif a ==b:\n",
    "    print(\"a is equal to b.\")\n",
    "else:\n",
    "    print(\"a is greater than b.\")"
   ]
  },
  {
   "cell_type": "code",
   "execution_count": 46,
   "metadata": {},
   "outputs": [
    {
     "name": "stdout",
     "output_type": "stream",
     "text": [
      "This line is outside of the function\n"
     ]
    }
   ],
   "source": [
    "# Functions\n",
    "\n",
    "def my_first_function():\n",
    "    print(\"This line is inside the function\")\n",
    "    print(\"This line is also inside the function\")\n",
    "    \n",
    "print(\"This line is outside of the function\")"
   ]
  },
  {
   "cell_type": "code",
   "execution_count": 48,
   "metadata": {},
   "outputs": [
    {
     "name": "stdout",
     "output_type": "stream",
     "text": [
      "This line is outside of the function\n",
      "This line is inside the function\n",
      "This line is also inside the function\n"
     ]
    }
   ],
   "source": [
    "# Functions\n",
    "\n",
    "def my_first_function():\n",
    "    print(\"This line is inside the function\")\n",
    "    print(\"This line is also inside the function\")\n",
    "    \n",
    "print(\"This line is outside of the function\")\n",
    "my_first_function()"
   ]
  },
  {
   "cell_type": "code",
   "execution_count": 50,
   "metadata": {},
   "outputs": [
    {
     "name": "stdout",
     "output_type": "stream",
     "text": [
      "This line is outside of the function\n",
      "The variable sent to the function is 5\n"
     ]
    }
   ],
   "source": [
    "# Passing variable(s) into functions\n",
    "\n",
    "def function2(var1):\n",
    "    print(\"The variable sent to the function is\", var1)\n",
    "    \n",
    "print(\"This line is outside of the function\")\n",
    "myvar = 5\n",
    "function2(myvar)"
   ]
  },
  {
   "cell_type": "code",
   "execution_count": 52,
   "metadata": {},
   "outputs": [
    {
     "name": "stdout",
     "output_type": "stream",
     "text": [
      "This line is outside of the function\n",
      "The variable sent to the function is 5\n",
      "17\n"
     ]
    }
   ],
   "source": [
    "# Return value from a function\n",
    "\n",
    "def function3(var1):\n",
    "    print(\"The variable sent to the function is\", var1)\n",
    "    return 3 * var1 + 2\n",
    "    \n",
    "print(\"This line is outside of the function\")\n",
    "myvar = 5\n",
    "result = function3(myvar)\n",
    "print(result)"
   ]
  },
  {
   "cell_type": "code",
   "execution_count": 56,
   "metadata": {},
   "outputs": [
    {
     "name": "stdout",
     "output_type": "stream",
     "text": [
      "This line is outside of the function\n",
      "17 -3\n"
     ]
    }
   ],
   "source": [
    "# Passing and returning multiple values from a function\n",
    "\n",
    "def function3(var1, var2):\n",
    "    return (3 * var1 + 2), (-1 * var2)\n",
    "    \n",
    "print(\"This line is outside of the function\")\n",
    "myvar = 5\n",
    "[result, res2] = function3(myvar, (myvar - 2))\n",
    "print(result, res2)"
   ]
  }
 ],
 "metadata": {
  "kernelspec": {
   "display_name": "Python 3",
   "language": "python",
   "name": "python3"
  },
  "language_info": {
   "codemirror_mode": {
    "name": "ipython",
    "version": 3
   },
   "file_extension": ".py",
   "mimetype": "text/x-python",
   "name": "python",
   "nbconvert_exporter": "python",
   "pygments_lexer": "ipython3",
   "version": "3.7.4"
  }
 },
 "nbformat": 4,
 "nbformat_minor": 2
}
