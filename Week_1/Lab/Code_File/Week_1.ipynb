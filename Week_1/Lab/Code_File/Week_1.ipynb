{
  "nbformat": 4,
  "nbformat_minor": 0,
  "metadata": {
    "colab": {
      "provenance": []
    },
    "kernelspec": {
      "name": "python3",
      "display_name": "Python 3"
    },
    "language_info": {
      "name": "python"
    }
  },
  "cells": [
    {
      "cell_type": "code",
      "execution_count": null,
      "metadata": {
        "id": "1jLREviQzdFu"
      },
      "outputs": [],
      "source": [
        "#Let's create first comment"
      ]
    },
    {
      "cell_type": "code",
      "source": [
        "print(5)"
      ],
      "metadata": {
        "colab": {
          "base_uri": "https://localhost:8080/"
        },
        "id": "ErjHrtDlz8e2",
        "outputId": "720af8fb-632d-49da-abb0-67c6cdeb3249"
      },
      "execution_count": null,
      "outputs": [
        {
          "output_type": "stream",
          "name": "stdout",
          "text": [
            "5\n"
          ]
        }
      ]
    },
    {
      "cell_type": "code",
      "source": [
        "print(\"I'm learning Python programming\")"
      ],
      "metadata": {
        "colab": {
          "base_uri": "https://localhost:8080/"
        },
        "id": "TImSq3IFz_Nv",
        "outputId": "7dcaf094-9a1b-4dc7-db4b-4bd9558ace61"
      },
      "execution_count": null,
      "outputs": [
        {
          "output_type": "stream",
          "name": "stdout",
          "text": [
            "I'm learning Python programming\n"
          ]
        }
      ]
    },
    {
      "cell_type": "code",
      "source": [
        "a = 1\n",
        "b = 6\n",
        "print(a)\n",
        "print(b)\n",
        "print(a,b)"
      ],
      "metadata": {
        "colab": {
          "base_uri": "https://localhost:8080/"
        },
        "id": "BwOj0XbO0Dc-",
        "outputId": "53d60551-2d96-4ebc-b32b-d79f62c03b24"
      },
      "execution_count": null,
      "outputs": [
        {
          "output_type": "stream",
          "name": "stdout",
          "text": [
            "1\n",
            "6\n",
            "1 6\n"
          ]
        }
      ]
    },
    {
      "cell_type": "code",
      "source": [
        "a = b\n",
        "b = \"It's new\"\n",
        "print(a, b)"
      ],
      "metadata": {
        "colab": {
          "base_uri": "https://localhost:8080/"
        },
        "id": "12NLyWbM0PRB",
        "outputId": "1218598c-3b36-4ab0-bb15-0610c3ea7af7"
      },
      "execution_count": null,
      "outputs": [
        {
          "output_type": "stream",
          "name": "stdout",
          "text": [
            "6 It's new\n"
          ]
        }
      ]
    },
    {
      "cell_type": "code",
      "source": [
        "a = \"Alpha\"\n",
        "b = \"Beta\"\n",
        "c = a\n",
        "a = b\n",
        "b = c\n",
        "print(a, b)"
      ],
      "metadata": {
        "colab": {
          "base_uri": "https://localhost:8080/"
        },
        "id": "IcyetQHH0cwp",
        "outputId": "4f1b5603-ee93-4b1f-8498-cb5af0baaa2f"
      },
      "execution_count": null,
      "outputs": [
        {
          "output_type": "stream",
          "name": "stdout",
          "text": [
            "Beta Alpha\n"
          ]
        }
      ]
    },
    {
      "cell_type": "code",
      "source": [
        "money = int(input(\"Hww much money do you have? \"))\n",
        "if money >= 12:\n",
        "  print(\"You can buy a hamburger\")\n",
        "else:\n",
        "  print(\"You cannot buy a hamburger\")"
      ],
      "metadata": {
        "colab": {
          "base_uri": "https://localhost:8080/"
        },
        "id": "z4L1YQ2f09bo",
        "outputId": "015f1ba9-bd16-40bc-c307-14b4ceb80f59"
      },
      "execution_count": null,
      "outputs": [
        {
          "output_type": "stream",
          "name": "stdout",
          "text": [
            "Hww much money do you have? 12\n",
            "You can buy a hamburger\n"
          ]
        }
      ]
    },
    {
      "cell_type": "code",
      "source": [
        "def choosing_room():\n",
        "  room_A = 20\n",
        "  room_B = 50\n",
        "  room_C = 120\n",
        "  num_of_students = int(input(\"Please enter the size number: \"))\n",
        "  if num_of_students < 50 and num_of_students < 120:\n",
        "    print(\"You can choose room B and C\")\n",
        "  elif num_of_students < 20 and num_of_students < 50:\n",
        "    print(\"You can choose room A and B\")\n",
        "  elif num_of_students < 20 and num_of_students < 120:\n",
        "    print(\"You can choose room A and C\")\n",
        "\n",
        "choosing_room()\n",
        "\n"
      ],
      "metadata": {
        "colab": {
          "base_uri": "https://localhost:8080/"
        },
        "id": "rKQrxGbD1mSe",
        "outputId": "9f939bb4-688d-494d-9079-867aee3f7e08"
      },
      "execution_count": null,
      "outputs": [
        {
          "output_type": "stream",
          "name": "stdout",
          "text": [
            "Please enter the size number: 48\n",
            "You can choose room B and C\n"
          ]
        }
      ]
    },
    {
      "cell_type": "code",
      "source": [],
      "metadata": {
        "id": "owX1-7EH2eKZ"
      },
      "execution_count": null,
      "outputs": []
    }
  ]
}